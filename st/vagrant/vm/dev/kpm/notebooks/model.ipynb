{
 "cells": [
  {
   "cell_type": "code",
   "execution_count": 1,
   "id": "07ca7fe9-c6f3-4dcb-bda7-dd523e604438",
   "metadata": {},
   "outputs": [],
   "source": [
    "from power_model.datasource import prometheus\n"
   ]
  },
  {
   "cell_type": "code",
   "execution_count": 2,
   "id": "eb7cf8cc-b04c-4abc-ba2a-cedc7ecbae60",
   "metadata": {},
   "outputs": [
    {
     "data": {
      "text/plain": [
       "<module 'power_model.datasource.prometheus' from '/home/st/data/rh/kepler/models-redux/kex/st/power-model/src/power_model/datasource/prometheus.py'>"
      ]
     },
     "execution_count": 2,
     "metadata": {},
     "output_type": "execute_result"
    }
   ],
   "source": [
    "prometheus"
   ]
  },
  {
   "cell_type": "code",
   "execution_count": null,
   "id": "74513a36-4b47-4b73-b973-8003f328193e",
   "metadata": {},
   "outputs": [],
   "source": []
  }
 ],
 "metadata": {
  "kernelspec": {
   "display_name": "Python 3 (ipykernel)",
   "language": "python",
   "name": "python3"
  },
  "language_info": {
   "codemirror_mode": {
    "name": "ipython",
    "version": 3
   },
   "file_extension": ".py",
   "mimetype": "text/x-python",
   "name": "python",
   "nbconvert_exporter": "python",
   "pygments_lexer": "ipython3",
   "version": "3.12.6"
  }
 },
 "nbformat": 4,
 "nbformat_minor": 5
}
